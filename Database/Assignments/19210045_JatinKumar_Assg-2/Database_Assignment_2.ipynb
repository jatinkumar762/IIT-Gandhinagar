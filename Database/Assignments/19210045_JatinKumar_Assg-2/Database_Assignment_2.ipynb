{
 "cells": [
  {
   "cell_type": "code",
   "execution_count": 3,
   "metadata": {},
   "outputs": [],
   "source": [
    "import mysql.connector\n",
    "from mysql.connector import connection\n",
    "from mysql.connector import errorcode"
   ]
  },
  {
   "cell_type": "markdown",
   "metadata": {},
   "source": [
    "### Make DB Connection"
   ]
  },
  {
   "cell_type": "code",
   "execution_count": 64,
   "metadata": {},
   "outputs": [],
   "source": [
    "try:\n",
    "     cnx = connection.MySQLConnection(user='root', password='', host='127.0.0.1', database='e_commerce')\n",
    "     cursor = cnx.cursor()\n",
    "     DB_NAME = \"test\"\n",
    "     cursor.execute(\"USE {}\".format(DB_NAME))\n",
    "    \n",
    "except mysql.connector.Error as err:\n",
    "    print(err)\n",
    "else:\n",
    "    pass\n",
    "    #cnx.close()"
   ]
  },
  {
   "cell_type": "markdown",
   "metadata": {},
   "source": [
    "#### Tables variable which store all tables design"
   ]
  },
  {
   "cell_type": "code",
   "execution_count": 3,
   "metadata": {},
   "outputs": [],
   "source": [
    "TABLES = {}"
   ]
  },
  {
   "cell_type": "markdown",
   "metadata": {},
   "source": [
    "#### Design of Customer Table"
   ]
  },
  {
   "cell_type": "code",
   "execution_count": null,
   "metadata": {},
   "outputs": [],
   "source": [
    " TABLES['customer'] = (\n",
    "    \"CREATE TABLE `customer` (\"\n",
    "    \"  `cust_id` int NOT NULL AUTO_INCREMENT,\"\n",
    "    \"  `cust_name` varchar(100) NOT NULL,\"\n",
    "    \"  `cust_email` varchar(100) NOT NULL,\"\n",
    "    \"  `cust_contact` varchar(100) NOT NULL,\"\n",
    "    \"   CHECK(`cust_email` like '%___@___%'),\"\n",
    "    \"   PRIMARY KEY (`cust_id`)\"\n",
    "    \") \")"
   ]
  },
  {
   "cell_type": "code",
   "execution_count": null,
   "metadata": {},
   "outputs": [],
   "source": [
    "TABLES['cust_address'] = (\n",
    "    \"CREATE TABLE `cust_address` (\"\n",
    "    \"`cust_id` int NOT NULL,\"\n",
    "    \"`city` varchar(100) NOT NULL,\"\n",
    "    \"`state` varchar(100) NOT NULL,\"\n",
    "    \"foreign key (`cust_id`) REFERENCES customer(`cust_id`) on delete cascade\"\n",
    "    \")\")"
   ]
  },
  {
   "cell_type": "code",
   "execution_count": null,
   "metadata": {},
   "outputs": [],
   "source": [
    "TABLES['category'] = (\n",
    "    \"CREATE TABLE `category` (\"\n",
    "    \"`cat_id` int not null AUTO_INCREMENT,\"\n",
    "    \"`cat_name` varchar(100) not null,\"\n",
    "    \"`cat_description` text not null,\"\n",
    "    \"primary key (`cat_id`)\"\n",
    "    \")\")"
   ]
  },
  {
   "cell_type": "code",
   "execution_count": null,
   "metadata": {},
   "outputs": [],
   "source": [
    "TABLES['retailer'] = (\n",
    "    \"CREATE TABLE `retailer` (\"\n",
    "    \"`ret_id` int not null auto_increment,\"\n",
    "    \"`ret_name` varchar(100) not null,\"\n",
    "    \"`ret_address` varchar(100) not null,\"\n",
    "    \"`ret_city` varchar(100) not null,\"\n",
    "    \"`ret_state` varchar(100) not null,\"\n",
    "    \"`ret_email` varchar(100) not null,\"\n",
    "    \"`ret_contact` varchar(100) not null,\"\n",
    "    \"CHECK (`ret_email` like '%__@___%'),\"\n",
    "    \"primary key (`ret_id`)\"\n",
    "    \")\")"
   ]
  },
  {
   "cell_type": "code",
   "execution_count": null,
   "metadata": {},
   "outputs": [],
   "source": [
    "TABLES['brand'] = (\n",
    "    \"CREATE TABLE `brand` (\"\n",
    "    \"`b_id` int not null auto_increment,\"\n",
    "    \"`b_name` varchar(100) not null,\"\n",
    "    \"`b_des` text not null,\"\n",
    "    \"primary key (`b_id`)\"\n",
    "    \")\")"
   ]
  },
  {
   "cell_type": "code",
   "execution_count": 51,
   "metadata": {},
   "outputs": [],
   "source": [
    "TABLES['prod_details'] = (\n",
    "    \"CREATE TABLE `prod_details` (\"\n",
    "    \"`p_id` int not null auto_increment,\"\n",
    "    \"`p_name` varchar(100) not null,\"\n",
    "    \"`p_price` int not null,\"\n",
    "    \"`p_type` varchar(100) not null,\"\n",
    "    \"`p_vndr_id` int not null,\"\n",
    "    \"`p_desc` varchar(100) not null,\"\n",
    "    \"`p_quantity` int not null,\"\n",
    "    \"`p_add_dt` date not null,\"\n",
    "    \"`p_vw_count` int not null,\"\n",
    "    \"`p_vw_date` date not null,\"\n",
    "    \"`p_cat_id` int not null,\"\n",
    "    \"`p_b_id` int not null,\"\n",
    "    \"primary key (`p_id`),\"\n",
    "    \"foreign key (`p_cat_id`) references category(`cat_id`) on delete cascade,\"\n",
    "    \"foreign key (`p_b_id`) references brand (`b_id`) on delete cascade\"\n",
    "    \")\")"
   ]
  },
  {
   "cell_type": "code",
   "execution_count": 60,
   "metadata": {},
   "outputs": [],
   "source": [
    "TABLES['book'] = (\n",
    "    \"CREATE TABLE `book` (\"\n",
    "    \"`book_id` int not null auto_increment,\"\n",
    "    \"`book_p_id` int not null,\"\n",
    "    \"`book_c_id` int not null default 1,\"\n",
    "    \"`book_author` varchar(100) not null,\"\n",
    "    \"`book_publ_date` date not null,\"\n",
    "    \" primary key (`book_id`),\"\n",
    "    \"foreign key (`book_p_id`) references  prod_details(`p_id`) on delete cascade,\"\n",
    "    \"foreign key (`book_c_id`) references  category(`cat_id`) on delete cascade\"\n",
    "    \")\")"
   ]
  },
  {
   "cell_type": "code",
   "execution_count": 4,
   "metadata": {},
   "outputs": [],
   "source": [
    "TABLES['review'] = (\n",
    "    \"CREATE TABLE `review` (\"\n",
    "    \"`rid` int not null auto_increment,\"\n",
    "    \"`pid` int not null,\"\n",
    "    \"`cid` int default -1,\"\n",
    "    \"`cname` varchar(60) not null default 'Anonymous',\"\n",
    "    \"`rating` int not null,\"\n",
    "    \"`review` text not null,\"\n",
    "    \" primary key (rid),\"\n",
    "    \" foreign key (`pid`) references prod_details(`p_id`) on delete cascade,\"\n",
    "    \" foreign key (`cid`) references customer(`cust_id`) on delete set null\"\n",
    "    \")\")"
   ]
  },
  {
   "cell_type": "code",
   "execution_count": 19,
   "metadata": {},
   "outputs": [],
   "source": [
    "TABLES['Diwali_Deals'] = (\n",
    "    \"CREATE TABLE `Diwali_Deals` (\"\n",
    "    \"`p_id` int not null auto_increment,\"\n",
    "    \"`p_name` varchar(100) not null,\"\n",
    "    \"`p_price` int not null,\"\n",
    "    \"`p_type` varchar(100) not null,\"\n",
    "    \"`p_vndr_id` int not null,\"\n",
    "    \"`p_desc` varchar(100) not null,\"\n",
    "    \"`p_quantity` int not null,\"\n",
    "    \"`p_add_dt` date not null,\"\n",
    "    \"`p_vw_count` int not null,\"\n",
    "    \"`p_vw_date` date not null,\"\n",
    "    \"`p_cat_id` int not null,\"\n",
    "    \"`p_b_id` int not null,\"\n",
    "    \"primary key (`p_id`),\"\n",
    "    \"foreign key (`p_cat_id`) references category(`cat_id`) on delete cascade,\"\n",
    "    \"foreign key (`p_b_id`) references brand (`b_id`) on delete cascade\"\n",
    "    \")\")"
   ]
  },
  {
   "cell_type": "code",
   "execution_count": 22,
   "metadata": {},
   "outputs": [],
   "source": [
    "TABLES['carts'] = (\n",
    "    \"CREATE TABLE `carts` (\"\n",
    "    \"`cart_id` int not null auto_increment,\"\n",
    "    \"`cart_cust_id` int not null,\"\n",
    "    \"`cart_add_date` date not null,\"\n",
    "    \" primary key (`cart_id`),\"\n",
    "    \" foreign key (`cart_cust_id`) references customer (`cust_id`) on delete cascade\"\n",
    "    \")\")"
   ]
  },
  {
   "cell_type": "code",
   "execution_count": 25,
   "metadata": {},
   "outputs": [],
   "source": [
    "TABLES['cart_details'] = (\n",
    "    \"CREATE TABLE `cart_details` (\"\n",
    "    \"`cart_id` int not null,\"\n",
    "    \"`cart_prd_id` int not null,\"\n",
    "    \"`cart_prd_qunt` int not null,\"\n",
    "    \" foreign key (`cart_id`) references carts (`cart_id`) on delete cascade,\"\n",
    "    \" foreign key (`cart_prd_id`) references prod_details (`p_id`) on delete cascade\"\n",
    "    \")\")"
   ]
  },
  {
   "cell_type": "code",
   "execution_count": 35,
   "metadata": {},
   "outputs": [],
   "source": [
    "TABLES['orders'] = (\n",
    "    \"CREATE TABLE `orders` (\"\n",
    "    \"`ord_id` int not null auto_increment,\"\n",
    "    \"`ord_cust_id` int not null,\"\n",
    "    \"`ord_add_date` date not null,\"\n",
    "    \" primary key (`ord_id`),\"\n",
    "    \" foreign key (`ord_cust_id`) references customer (`cust_id`) on delete cascade\"\n",
    "    \")\")"
   ]
  },
  {
   "cell_type": "code",
   "execution_count": 38,
   "metadata": {},
   "outputs": [],
   "source": [
    "TABLES['ord_details'] = (\n",
    "    \"CREATE TABLE `ord_details` (\"\n",
    "    \"`ord_id` int not null,\"\n",
    "    \"`ord_prd_id` int not null,\"\n",
    "    \"`ord_prd_qunt` int not null,\"\n",
    "    \" foreign key (`ord_id`) references orders (`ord_id`) on delete cascade,\"\n",
    "    \" foreign key (`ord_prd_id`) references prod_details (`p_id`) on delete cascade\"\n",
    "    \")\")"
   ]
  },
  {
   "cell_type": "code",
   "execution_count": 39,
   "metadata": {},
   "outputs": [
    {
     "name": "stdout",
     "output_type": "stream",
     "text": [
      "6\n"
     ]
    }
   ],
   "source": [
    "print(len(TABLES))"
   ]
  },
  {
   "cell_type": "markdown",
   "metadata": {},
   "source": [
    "#### create tables in DB"
   ]
  },
  {
   "cell_type": "code",
   "execution_count": null,
   "metadata": {},
   "outputs": [],
   "source": [
    "cursor.execute(TABLES['customer'])\n",
    "cnx.commit()"
   ]
  },
  {
   "cell_type": "code",
   "execution_count": null,
   "metadata": {},
   "outputs": [],
   "source": [
    "cursor.execute(TABLES['cust_address'])\n",
    "cnx.commit()"
   ]
  },
  {
   "cell_type": "code",
   "execution_count": null,
   "metadata": {},
   "outputs": [],
   "source": [
    "cursor.execute(TABLES['category'])\n",
    "cnx.commit()"
   ]
  },
  {
   "cell_type": "code",
   "execution_count": null,
   "metadata": {},
   "outputs": [],
   "source": [
    "cursor.execute(TABLES['retailer'])\n",
    "cnx.commit()"
   ]
  },
  {
   "cell_type": "code",
   "execution_count": 46,
   "metadata": {},
   "outputs": [],
   "source": [
    "cursor.execute(TABLES['brand'])\n",
    "cnx.commit()"
   ]
  },
  {
   "cell_type": "code",
   "execution_count": 52,
   "metadata": {},
   "outputs": [],
   "source": [
    "cursor.execute(TABLES['prod_details'])\n",
    "cnx.commit()"
   ]
  },
  {
   "cell_type": "code",
   "execution_count": 62,
   "metadata": {},
   "outputs": [],
   "source": [
    "cursor.execute(TABLES['book'])\n",
    "cnx.commit()"
   ]
  },
  {
   "cell_type": "code",
   "execution_count": 6,
   "metadata": {},
   "outputs": [],
   "source": [
    "cursor.execute(TABLES['review'])\n",
    "cnx.commit()"
   ]
  },
  {
   "cell_type": "code",
   "execution_count": 21,
   "metadata": {},
   "outputs": [],
   "source": [
    "cursor.execute(TABLES['Diwali_Deals'])\n",
    "cnx.commit()"
   ]
  },
  {
   "cell_type": "code",
   "execution_count": 24,
   "metadata": {},
   "outputs": [],
   "source": [
    "cursor.execute(TABLES['carts'])\n",
    "cnx.commit()"
   ]
  },
  {
   "cell_type": "code",
   "execution_count": 27,
   "metadata": {},
   "outputs": [],
   "source": [
    "cursor.execute(TABLES['cart_details'])\n",
    "cnx.commit()"
   ]
  },
  {
   "cell_type": "code",
   "execution_count": 37,
   "metadata": {},
   "outputs": [],
   "source": [
    "cursor.execute(TABLES['orders'])\n",
    "cnx.commit()"
   ]
  },
  {
   "cell_type": "code",
   "execution_count": 40,
   "metadata": {},
   "outputs": [],
   "source": [
    "cursor.execute(TABLES['ord_details'])\n",
    "cnx.commit()"
   ]
  },
  {
   "cell_type": "markdown",
   "metadata": {},
   "source": [
    "## insert data into tables"
   ]
  },
  {
   "cell_type": "markdown",
   "metadata": {},
   "source": [
    "#### Customer Table"
   ]
  },
  {
   "cell_type": "code",
   "execution_count": null,
   "metadata": {},
   "outputs": [],
   "source": [
    "sql_customer =  (\"INSERT INTO customer \"\n",
    "                 \"(cust_name, cust_email, cust_contact) \"\n",
    "                 \"VALUES (%s, %s, %s)\")"
   ]
  },
  {
   "cell_type": "code",
   "execution_count": null,
   "metadata": {},
   "outputs": [],
   "source": [
    "customers = [ ('Sohan', 'jkl@yahoo.com', '5678'),\n",
    "              ( 'Ajay', 'ajy@yahoo.com', '3478'),\n",
    "              ( 'Lavish', 'lavi@outlook.com', '2678'),\n",
    "              ( 'Akanksha', 'akn@outlook.com', '3456'),\n",
    "              ( 'Akshita', 'akki@yahoo.com', '4897')]"
   ]
  },
  {
   "cell_type": "code",
   "execution_count": null,
   "metadata": {},
   "outputs": [],
   "source": [
    "cursor.executemany(sql_customer,customers)\n",
    "cnx.commit()"
   ]
  },
  {
   "cell_type": "markdown",
   "metadata": {},
   "source": [
    "#### Customer Address"
   ]
  },
  {
   "cell_type": "code",
   "execution_count": null,
   "metadata": {},
   "outputs": [],
   "source": [
    "sql_cust_address =  (\"INSERT INTO cust_address \"\n",
    "                    \"(cust_id, city, state) \"\n",
    "                    \"VALUES (%s, %s, %s)\")"
   ]
  },
  {
   "cell_type": "code",
   "execution_count": null,
   "metadata": {},
   "outputs": [],
   "source": [
    "cust_address = [ (1, 'Mumbai', 'Maharashtra'),\n",
    "                 (1, 'Pune', 'Maharashtra'),\n",
    "                 (2, 'Delhi', 'Delhi'),\n",
    "                 (3, 'Ajmer', 'Rajasthan'),\n",
    "                 (4, 'Jaipur', 'Rajasthan'),\n",
    "                 (5, 'Kota', 'Rajasthan'),\n",
    "                 (6, 'Pune', 'Maharashtra'),\n",
    "                 (7, 'Ahemdabad', 'Gujrat')]"
   ]
  },
  {
   "cell_type": "code",
   "execution_count": null,
   "metadata": {},
   "outputs": [],
   "source": [
    "cursor.executemany(sql_cust_address,cust_address)\n",
    "cnx.commit()"
   ]
  },
  {
   "cell_type": "markdown",
   "metadata": {},
   "source": [
    "#### Category"
   ]
  },
  {
   "cell_type": "code",
   "execution_count": null,
   "metadata": {},
   "outputs": [],
   "source": [
    "sql_category =  (\"INSERT INTO category\"\n",
    "                 \"(cat_name, cat_description) \"\n",
    "                 \"VALUES (%s, %s)\")"
   ]
  },
  {
   "cell_type": "code",
   "execution_count": null,
   "metadata": {},
   "outputs": [],
   "source": [
    "category = [( 'Book', 'xxx'),\n",
    "            ( 'Electronics', 'xxx'),\n",
    "            ( 'Furniture', 'xxx')]"
   ]
  },
  {
   "cell_type": "code",
   "execution_count": null,
   "metadata": {},
   "outputs": [],
   "source": [
    "cursor.executemany(sql_category,category)\n",
    "cnx.commit()"
   ]
  },
  {
   "cell_type": "markdown",
   "metadata": {},
   "source": [
    "#### Retailer"
   ]
  },
  {
   "cell_type": "code",
   "execution_count": null,
   "metadata": {},
   "outputs": [],
   "source": [
    "sql_retailer =  (\"INSERT INTO retailer\"\n",
    "                 \"(ret_name, ret_address, ret_city, ret_state, ret_email, ret_contact)\"\n",
    "                 \"VALUES (%s, %s, %s, %s, %s, %s)\")"
   ]
  },
  {
   "cell_type": "code",
   "execution_count": null,
   "metadata": {},
   "outputs": [],
   "source": [
    "retailer = [('BigWorld', 'Bangalore', 'Bangalore', 'Karnatka', 'bw @gmail.com', '1234'),\n",
    "            ('DASM', 'Bangalore', 'Bangalore', 'Karnatka', 'da@gmail.com', '6766'),\n",
    "            ('GKP', 'Hyderabad', 'Hyderabad', 'Telangana', 'gkp@gmail.com', '9999'),\n",
    "            ('Lepakshi', 'Mumbai', 'Mumbai', 'Maharashtra', 'le@gmail.com', '0871'),\n",
    "            ('Peepul', 'Mumbai', 'Mumbai', 'Maharashtra', 'pee@gmail.com', '5723'),\n",
    "            ('luxe', 'Pune', 'Pune', 'Maharashtra', 'lu@gmail.com', '6021'),\n",
    "            ('Viya', 'Delhi', 'Delhi', 'Delhi', 'vy@gmail.com', '3581'),\n",
    "            ('craft', 'Ahemdabad', 'Ahemdabad', 'Gujrat', 'cr@gmail.com', '1234')]"
   ]
  },
  {
   "cell_type": "code",
   "execution_count": null,
   "metadata": {},
   "outputs": [],
   "source": [
    "cursor.executemany(sql_retailer,retailer)\n",
    "cnx.commit()"
   ]
  },
  {
   "cell_type": "markdown",
   "metadata": {},
   "source": [
    "#### brands"
   ]
  },
  {
   "cell_type": "code",
   "execution_count": 48,
   "metadata": {},
   "outputs": [],
   "source": [
    "sql_brand =  (\"INSERT INTO brand\"\n",
    "              \"(b_name, b_des)\"\n",
    "              \"VALUES (%s, %s)\")"
   ]
  },
  {
   "cell_type": "code",
   "execution_count": 49,
   "metadata": {},
   "outputs": [],
   "source": [
    "brand = [('Bookends', 'Book Company'),\n",
    "         ('Brisk Books', 'Book Company'),\n",
    "         ('Book Barn', 'Book Company'),\n",
    "         ('Apple', 'Electronic Company'),\n",
    "         ('Samsung', 'Electronic Company'),\n",
    "         ('Lenovo', 'Electronic Company'),\n",
    "         ('Dell', 'Electronic Company'),\n",
    "         ('Hooker Furniture', 'Furniture Company'),\n",
    "         ('Basset', 'Furniture Company'),\n",
    "         ('Stanley', 'Furniture Company'),\n",
    "         ('Broyhill', 'Furniture Company')]"
   ]
  },
  {
   "cell_type": "code",
   "execution_count": 50,
   "metadata": {},
   "outputs": [],
   "source": [
    "cursor.executemany(sql_brand,brand)\n",
    "cnx.commit()"
   ]
  },
  {
   "cell_type": "markdown",
   "metadata": {},
   "source": [
    "#### Product Details data"
   ]
  },
  {
   "cell_type": "code",
   "execution_count": 66,
   "metadata": {},
   "outputs": [],
   "source": [
    "sql_products =  (\"INSERT INTO prod_details\"\n",
    "                 \"(p_name, p_price, p_type, p_vndr_id, p_desc, p_quantity, p_add_dt, p_vw_count, p_vw_date, p_cat_id, p_b_id)\"\n",
    "                 \"VALUES (%s, %s, %s, %s, %s, %s, %s, %s, %s, %s, %s)\")"
   ]
  },
  {
   "cell_type": "code",
   "execution_count": 68,
   "metadata": {},
   "outputs": [],
   "source": [
    "products = [('Opening Space', 400,'book', 7, 'xxx', 3, '2015-10-1', 5, '2019-11-1', 1, 1),\n",
    "            ('African Folktales', 900,'book', 7, 'xxx', 3, '2015-10-1', 15, '2019-11-1', 1, 3),\n",
    "            ('Unchained Voice', 1500,'book', 6, 'xxx', 1, '2020-2-1', 25, '2019-10-1', 1, 3),\n",
    "            ('Love Child', 2000,'book', 8, 'xxx', 3, '2019-10-1', 2, '2019-9-1', 1, 2),\n",
    "            ('Oral Epics from Africa', 600,'book', 6, 'xxx', 8, '1995-10-1', 1, '2019-8-1', 1, 2),\n",
    "            ('Wodden Side Table', 5000, 'furniture', 9, 'xxx', 2, '2015-09-01', 4, '2019-11-11', 3, 8),\n",
    "            ('Shelves Shoe Cabinet', 10000, 'furniture', 9, 'xxx', 3, '2016-01-01', 6, '2019-12-12', 3, 9),\n",
    "            ('Zigzag Corner Wall', 6000, 'furniture', 3, 'xxx', 1, '2017-12-12', 15, '2019-09-16', 3, 10),\n",
    "            ('Foldeable Stool', 1000, 'furniture', 9, 'xxx', 2, '2018-01-19', 21, '2019-11-11', 3, 10),\n",
    "            ('Bedside Tables', 2000, 'furniture', 3, 'xxx', 2, '2018-09-15', 11, '2019-11-06', 3, 11),\n",
    "            ('Ward Robes', 8500, 'furniture', 4, 'xxx', 6, '2019-09-15', 9, '2019-12-06', 3, 11),\n",
    "            ('Wash Stands', 6999, 'furniture', 4, 'xxx', 1, '2020-01-01', 23, '2019-10-05', 3, 8),\n",
    "            ('Apple iphone-x', 100000, 'Mobile', 1, 'xxx', 10, '2019-10-01', 5, '2019-11-11', 2, 4),\n",
    "            ('Apple Tablet 7gen', 60000, 'Tablet', 1, 'xxx', 5, '2019-11-11', 9, '2019-12-01', 2, 4),\n",
    "            ('Apple Tablet 6gen', 30000, 'Tablet', 2, 'xxx', 6, '2019-12-01', 110, '2020-01-01', 2, 4),\n",
    "            ('Apple Laptop', 150000, 'Laptop', 2, 'xxx', 3, '2019-12-05', 150, '2020-02-02', 2, 4),\n",
    "            ('Xioami Redmi', 15000, 'Mobile', 5, 'xxx', 4, '2020-01-01', 200, '2019-11-30', 2, 12),\n",
    "            ('Xioami Speaker', 11000, 'Speaker', 6, 'xxx', 3, '2020-02-05', 6, '2020-01-01', 2, 12),\n",
    "            ('Lenvo Laptop', 50000, 'Laptop', 5, 'xxx', 5, '2020-02-01', 80, '2020-01-30', 2, 6),\n",
    "            ('Dell Laptop', 75000, 'Laptop', 1, 'xxx', 1, '2019-10-01', 9, '2020-02-05', 2, 7)]"
   ]
  },
  {
   "cell_type": "code",
   "execution_count": 70,
   "metadata": {},
   "outputs": [],
   "source": [
    "cursor.executemany(sql_products,products)\n",
    "cnx.commit()"
   ]
  },
  {
   "cell_type": "markdown",
   "metadata": {},
   "source": [
    "#### book data"
   ]
  },
  {
   "cell_type": "code",
   "execution_count": 63,
   "metadata": {},
   "outputs": [],
   "source": [
    "sql_book =  (\"INSERT INTO book\"\n",
    "                 \"(book_p_id, book_author, book_publ_date)\"\n",
    "                 \"VALUES (%s, %s, %s)\")"
   ]
  },
  {
   "cell_type": "code",
   "execution_count": 64,
   "metadata": {},
   "outputs": [],
   "source": [
    "book = [(1, 'Franz Kafka', '2007-01-01'),\n",
    "        (2, 'Franz Kafka', '2017-11-01'),\n",
    "        (3, 'Jaya Dev', '2018-11-01'),\n",
    "        (4, 'Jayaprakash Narayan', '1997-11-01'),\n",
    "        (5, 'G. B. Shaw', '2000-11-01')]"
   ]
  },
  {
   "cell_type": "code",
   "execution_count": 72,
   "metadata": {},
   "outputs": [],
   "source": [
    "cursor.executemany(sql_book,book)\n",
    "cnx.commit()"
   ]
  },
  {
   "cell_type": "markdown",
   "metadata": {},
   "source": [
    "#### Review data"
   ]
  },
  {
   "cell_type": "code",
   "execution_count": 9,
   "metadata": {},
   "outputs": [],
   "source": [
    "sql_review =  (\"INSERT INTO review\"\n",
    "             \"(pid, cid, cname, rating, review)\"\n",
    "             \"VALUES (%s, %s, %s, %s, %s)\")"
   ]
  },
  {
   "cell_type": "code",
   "execution_count": 17,
   "metadata": {},
   "outputs": [],
   "source": [
    "review = [(13,6,'Akanksha',1,'Bad'),\n",
    "          (13,5,'Lavish',3,'Average'),\n",
    "          (12,1,'Rakesh',4,'Good'),\n",
    "          (10,3,'Sohan',5,'Excellent'),\n",
    "          (16,5,'Lavish',5,'Excellent'),\n",
    "          (8,6,'Akanksha',1,'Good'),\n",
    "          (5,1,'Rakesh',3,'Average'),\n",
    "          (6,1,'Rakesh',4,'Good'),\n",
    "          (1,1,'Rakesh',5,'Excellent')]"
   ]
  },
  {
   "cell_type": "code",
   "execution_count": 18,
   "metadata": {},
   "outputs": [],
   "source": [
    "cursor.executemany(sql_review,review)\n",
    "cnx.commit()"
   ]
  },
  {
   "cell_type": "markdown",
   "metadata": {},
   "source": [
    "#### cart data"
   ]
  },
  {
   "cell_type": "code",
   "execution_count": 28,
   "metadata": {},
   "outputs": [],
   "source": [
    "sql_cart = (\"INSERT INTO carts\"\n",
    "             \"(cart_cust_id, cart_add_date)\"\n",
    "             \"VALUES (%s, %s)\")"
   ]
  },
  {
   "cell_type": "code",
   "execution_count": 29,
   "metadata": {},
   "outputs": [],
   "source": [
    "cart = [(2, '2020-01-10'),\n",
    "        (4, '2020-02-01'),\n",
    "        (5, '2020-01-30')]"
   ]
  },
  {
   "cell_type": "code",
   "execution_count": 30,
   "metadata": {},
   "outputs": [],
   "source": [
    "cursor.executemany(sql_cart,cart)\n",
    "cnx.commit()"
   ]
  },
  {
   "cell_type": "markdown",
   "metadata": {},
   "source": [
    "#### cart details data"
   ]
  },
  {
   "cell_type": "code",
   "execution_count": 33,
   "metadata": {},
   "outputs": [],
   "source": [
    "sql_cartd = (\"INSERT INTO cart_details\"\n",
    "            \"(cart_id, cart_prd_id, cart_prd_qunt)\"\n",
    "            \"VALUES (%s, %s, %s)\")"
   ]
  },
  {
   "cell_type": "code",
   "execution_count": 32,
   "metadata": {},
   "outputs": [],
   "source": [
    "cart_details = [(1,19,1),\n",
    "                (1,11,1),\n",
    "                (2,18,2),\n",
    "                (2,10,1),\n",
    "                (3,16,1)]"
   ]
  },
  {
   "cell_type": "code",
   "execution_count": 34,
   "metadata": {},
   "outputs": [],
   "source": [
    "cursor.executemany(sql_cartd,cart_details)\n",
    "cnx.commit()"
   ]
  },
  {
   "cell_type": "markdown",
   "metadata": {},
   "source": [
    "#### order data"
   ]
  },
  {
   "cell_type": "code",
   "execution_count": 41,
   "metadata": {},
   "outputs": [],
   "source": [
    "sql_orders = (\"INSERT INTO orders\"\n",
    "             \"(ord_cust_id, ord_add_date)\"\n",
    "             \"VALUES (%s, %s)\")"
   ]
  },
  {
   "cell_type": "code",
   "execution_count": 42,
   "metadata": {},
   "outputs": [],
   "source": [
    "orders = [(2, '2020-01-10'),\n",
    "          (2, '2020-02-10'),\n",
    "          (1, '2020-01-10'),\n",
    "          (1, '2020-02-10'),\n",
    "          (1, '2020-01-19'),\n",
    "          (1, '2019-12-31'),\n",
    "          (5, '2020-01-30')]"
   ]
  },
  {
   "cell_type": "code",
   "execution_count": 43,
   "metadata": {},
   "outputs": [],
   "source": [
    "cursor.executemany(sql_orders,orders)\n",
    "cnx.commit()"
   ]
  },
  {
   "cell_type": "markdown",
   "metadata": {},
   "source": [
    "#### order details data"
   ]
  },
  {
   "cell_type": "code",
   "execution_count": 44,
   "metadata": {},
   "outputs": [],
   "source": [
    "sql_ord_d = (\"INSERT INTO ord_details\"\n",
    "            \"(ord_id, ord_prd_id, ord_prd_qunt)\"\n",
    "            \"VALUES (%s, %s, %s)\")"
   ]
  },
  {
   "cell_type": "code",
   "execution_count": 45,
   "metadata": {},
   "outputs": [],
   "source": [
    "ord_details = [ (1,19,1),\n",
    "                (1,11,1),\n",
    "                (2,18,2),\n",
    "                (2,10,1),\n",
    "                (3,16,1),\n",
    "                (4,5,1),\n",
    "                (5,6,2),\n",
    "                (6,1,1),\n",
    "                (7,8,2),\n",
    "                (7,9,1)]"
   ]
  },
  {
   "cell_type": "code",
   "execution_count": 46,
   "metadata": {},
   "outputs": [],
   "source": [
    "cursor.executemany(sql_ord_d,ord_details)\n",
    "cnx.commit()"
   ]
  },
  {
   "cell_type": "markdown",
   "metadata": {},
   "source": [
    "## DB Design Complete"
   ]
  },
  {
   "cell_type": "code",
   "execution_count": null,
   "metadata": {},
   "outputs": [],
   "source": []
  },
  {
   "cell_type": "markdown",
   "metadata": {},
   "source": [
    "## Queries of Assignment"
   ]
  },
  {
   "cell_type": "markdown",
   "metadata": {},
   "source": [
    "#### Probelm -1"
   ]
  },
  {
   "cell_type": "markdown",
   "metadata": {},
   "source": [
    "##### populate the tables with dummy record already done above."
   ]
  },
  {
   "cell_type": "code",
   "execution_count": null,
   "metadata": {},
   "outputs": [],
   "source": []
  },
  {
   "cell_type": "markdown",
   "metadata": {},
   "source": [
    "#### problem-2"
   ]
  },
  {
   "cell_type": "code",
   "execution_count": null,
   "metadata": {},
   "outputs": [],
   "source": [
    "query_2_1= (\"delete from customer where cust_id = %s;\")   \n",
    "cursor.execute(query_2_1,('10',))\n",
    "query_2_2 = (\"\"\"\n",
    "update review\n",
    "set\n",
    "    cname = 'Anonymous'\n",
    "where cid is null and cname is not null;\n",
    "\"\"\")\n",
    "cursor.execute(query_2_2)\n",
    "cnx.commit()"
   ]
  },
  {
   "cell_type": "markdown",
   "metadata": {},
   "source": [
    "##### Note :on delete set default is not supporting on my current db so I used this method."
   ]
  },
  {
   "cell_type": "markdown",
   "metadata": {},
   "source": [
    "#### Problem-3"
   ]
  },
  {
   "cell_type": "code",
   "execution_count": 96,
   "metadata": {},
   "outputs": [],
   "source": [
    "query_3 = (\"\"\"UPDATE prod_details \n",
    "SET \n",
    "    p_price = (p_price * 0.9)\n",
    "WHERE\n",
    "    p_vw_count < %s AND p_price > %s AND TIMESTAMPDIFF(MONTH, p_vw_date, CURDATE()) < %s;\n",
    "\"\"\")\n",
    "cursor.execute(query_3,('10','5000', '3'))\n",
    "cnx.commit()"
   ]
  },
  {
   "cell_type": "markdown",
   "metadata": {},
   "source": [
    "#### Problem-4"
   ]
  },
  {
   "cell_type": "code",
   "execution_count": null,
   "metadata": {},
   "outputs": [],
   "source": [
    "sql_cust_address =  (\"INSERT INTO cust_address \"\n",
    "                    \"(cust_id, city, state) \"\n",
    "                    \"VALUES (%s, %s, %s)\")"
   ]
  },
  {
   "cell_type": "code",
   "execution_count": null,
   "metadata": {},
   "outputs": [],
   "source": [
    "cust_address = [ (4, 'Pune', 'Maharashtra'),\n",
    "                 (4, 'Ahemdabad', 'Gujrat')]\n",
    "\n",
    "cursor.executemany(sql_cust_address,cust_address)\n",
    "cnx.commit()"
   ]
  },
  {
   "cell_type": "markdown",
   "metadata": {},
   "source": [
    "#### Problem - 5"
   ]
  },
  {
   "cell_type": "code",
   "execution_count": 32,
   "metadata": {
    "scrolled": false
   },
   "outputs": [
    {
     "name": "stdout",
     "output_type": "stream",
     "text": [
      "Name Email-ID\n",
      "Viya vy@gmail.com\n"
     ]
    }
   ],
   "source": [
    "query_5 = (\"select ret_name, ret_email from retailer where ret_city = %s\")\n",
    "cursor.execute(query_5, ('Delhi',))\n",
    "result = cursor.fetchall()\n",
    "print('Name','Email-ID')\n",
    "for r in result:\n",
    "    print(r[0],r[1])"
   ]
  },
  {
   "cell_type": "markdown",
   "metadata": {},
   "source": [
    "#### Problem-6"
   ]
  },
  {
   "cell_type": "code",
   "execution_count": 54,
   "metadata": {},
   "outputs": [
    {
     "name": "stdout",
     "output_type": "stream",
     "text": [
      "Sohan                160000\n"
     ]
    }
   ],
   "source": [
    "query_6 = (\"\"\"select cust_name as 'Name', sum(TotalPurchase) as 'Total Amount' from customer natural join cust_address,\n",
    "                     (select ord_cust_id, sum(ord_prd_qunt*p_price) as 'TotalPurchase'\n",
    "                     from orders natural join ord_details, prod_details\n",
    "                     where ord_prd_id = p_id\n",
    "                     group by ord_id\n",
    "                     having sum(ord_prd_qunt*p_price) >= %s ) as P\n",
    "              where customer.cust_id = p.ord_cust_id and city = %s\n",
    "              group by cust_id\n",
    "          \"\"\")\n",
    "\n",
    "cursor.execute(query_6,('5000', 'Mumbai'))\n",
    "result = cursor.fetchall()\n",
    "for r in result:\n",
    "    print(\"%-20s %s\"%(r[0],r[1]))\n"
   ]
  },
  {
   "cell_type": "markdown",
   "metadata": {},
   "source": [
    "#### Problem-7"
   ]
  },
  {
   "cell_type": "code",
   "execution_count": 53,
   "metadata": {},
   "outputs": [
    {
     "name": "stdout",
     "output_type": "stream",
     "text": [
      "Apple iphone-x            100000               Apple\n",
      "Apple Tablet 7gen         60000                Apple\n",
      "Apple Tablet 6gen         30000                Apple\n",
      "Apple Laptop              150000               Apple\n",
      "Xioami Redmi              15000                Xioami\n",
      "Xioami Speaker            11000                Xioami\n"
     ]
    }
   ],
   "source": [
    "query_7 = (\"\"\"select p_name as 'Product Name', p_price as 'Product Price', b_name as 'Brand Name'\n",
    "              from prod_details, brand\n",
    "              where prod_details.p_b_id = brand.b_id and (p_name like %s or p_name like %s)\n",
    "          \"\"\")\n",
    "cursor.execute(query_7,('%Apple%','%Xioami%'))\n",
    "result = cursor.fetchall()\n",
    "for r in result:\n",
    "    print(\"%-25s %-20s %s\"%(r[0], r[1],r[2]))"
   ]
  },
  {
   "cell_type": "markdown",
   "metadata": {},
   "source": [
    "#### Problem-8"
   ]
  },
  {
   "cell_type": "code",
   "execution_count": 52,
   "metadata": {},
   "outputs": [
    {
     "name": "stdout",
     "output_type": "stream",
     "text": [
      "Oral Epics from Africa    600                  8\n",
      "Wodden Side Table         5000                 2\n",
      "Apple Laptop              150000               3\n"
     ]
    }
   ],
   "source": [
    "query_8 = (\"\"\"select p_name as 'Product Name', p_price as 'Product Price', p_quantity as 'Product Quantity'\n",
    "              from prod_details\n",
    "              where p_id in (\n",
    "                              select ord_prd_id\n",
    "                              from ord_details as D\n",
    "                              natural join (\n",
    "                                             select *\n",
    "                                             from orders \n",
    "                                             where ord_cust_id = 1\n",
    "                                             order by ord_add_date desc\n",
    "                                             limit 3\n",
    "                              ) as O\n",
    "              )\n",
    "           \"\"\")\n",
    "cursor.execute(query_8)\n",
    "result = cursor.fetchall()\n",
    "for r in result:\n",
    "    print(\"%-25s %-20s %s\"%(r[0], r[1],r[2]))"
   ]
  },
  {
   "cell_type": "markdown",
   "metadata": {},
   "source": [
    "#### Problem-9"
   ]
  },
  {
   "cell_type": "code",
   "execution_count": 57,
   "metadata": {
    "scrolled": true
   },
   "outputs": [
    {
     "name": "stdout",
     "output_type": "stream",
     "text": [
      "Lenvo Laptop              50000                1\n",
      "Ward Robes                8500                 1\n"
     ]
    }
   ],
   "source": [
    "query_9 = (\"\"\"select p_name as 'Product Name', p_price as 'Product Price', cart_prd_qunt as 'Quantity'\n",
    "from prod_details,  carts natural join cart_details\n",
    "where cart_cust_id = %s and cart_prd_id = p_id\n",
    "\"\"\")\n",
    "cursor.execute(query_9,('2',))\n",
    "result = cursor.fetchall()\n",
    "for r in result:\n",
    "    print(\"%-25s %-20s %s\"%(r[0], r[1],r[2]))"
   ]
  },
  {
   "cell_type": "markdown",
   "metadata": {},
   "source": [
    "#### Problem-10"
   ]
  },
  {
   "cell_type": "code",
   "execution_count": 59,
   "metadata": {},
   "outputs": [
    {
     "name": "stdout",
     "output_type": "stream",
     "text": [
      "Opening Space             2007-01-01          \n",
      "African Folktales         2017-11-01          \n",
      "Unchained Voice           2018-11-01          \n"
     ]
    }
   ],
   "source": [
    "query_10 = (\"\"\"select p_name as 'Book Name', book_publ_date as 'Published Date'\n",
    "from prod_details, book \n",
    "where  prod_details.p_type = 'book' and  prod_details.p_id = book.book_p_id and TIMESTAMPDIFF(MONTH, %s, book_publ_date)>=0;\n",
    "\"\"\")\n",
    "cursor.execute(query_10,('2001-01-01',))\n",
    "result = cursor.fetchall()\n",
    "for r in result:\n",
    "    print(\"%-25s %-20s\"%(r[0], r[1]))\n"
   ]
  },
  {
   "cell_type": "markdown",
   "metadata": {},
   "source": [
    "#### Problem-11"
   ]
  },
  {
   "cell_type": "code",
   "execution_count": 60,
   "metadata": {},
   "outputs": [
    {
     "name": "stdout",
     "output_type": "stream",
     "text": [
      "Apple Tablet 6gen         30000               \n",
      "Xioami Redmi              15000               \n",
      "Xioami Speaker            11000               \n",
      "Lenvo Laptop              50000               \n"
     ]
    }
   ],
   "source": [
    "query_11 = (\"\"\"select p_name as 'Product Name', p_price as 'Product Price'\n",
    "from prod_details\n",
    "where p_cat_id = 2 and p_price between %s and %s;\n",
    "\"\"\")\n",
    "cursor.execute(query_11,('10000','50000'))\n",
    "result = cursor.fetchall()\n",
    "for r in result:\n",
    "    print(\"%-25s %-20s\"%(r[0], r[1]))"
   ]
  },
  {
   "cell_type": "markdown",
   "metadata": {},
   "source": [
    "#### Problem-12"
   ]
  },
  {
   "cell_type": "code",
   "execution_count": 66,
   "metadata": {},
   "outputs": [
    {
     "name": "stdout",
     "output_type": "stream",
     "text": [
      "Wodden Side Table\n",
      "Shelves Shoe Cabinet\n",
      "Foldeable Stool\n"
     ]
    }
   ],
   "source": [
    "query_12 = (\"\"\"select p_name as 'Furniture Name'\n",
    "from prod_details, retailer\n",
    "where prod_details.p_cat_id = 3 and prod_details.p_vndr_id = retailer.ret_id and retailer.ret_name = %s;\n",
    "\"\"\")\n",
    "cursor.execute(query_12,('IKea',))\n",
    "result = cursor.fetchall()\n",
    "for r in result:\n",
    "    print(r[0])"
   ]
  },
  {
   "cell_type": "markdown",
   "metadata": {},
   "source": [
    "#### Problem-13"
   ]
  },
  {
   "cell_type": "code",
   "execution_count": 67,
   "metadata": {},
   "outputs": [
    {
     "name": "stdout",
     "output_type": "stream",
     "text": [
      "Lenvo Laptop              50000               \n",
      "Dell Laptop               75000               \n",
      "Apple Laptop              150000              \n"
     ]
    }
   ],
   "source": [
    "query_13= (\"\"\"select p_name as 'Product Name', p_price as 'Product Price'\n",
    "from prod_details\n",
    "where p_cat_id = 2 and p_type = %s \n",
    "order by p_price asc;\n",
    "\"\"\")\n",
    "cursor.execute(query_13,('Laptop',))\n",
    "result = cursor.fetchall()\n",
    "for r in result:\n",
    "    print(\"%-25s %-20s\"%(r[0], r[1]))"
   ]
  },
  {
   "cell_type": "markdown",
   "metadata": {},
   "source": [
    "#### Problem-14"
   ]
  },
  {
   "cell_type": "code",
   "execution_count": 72,
   "metadata": {},
   "outputs": [
    {
     "name": "stdout",
     "output_type": "stream",
     "text": [
      "Product Name              Product Add Date    \n",
      "Opening Space             2015-10-01          \n",
      "African Folktales         2015-10-01          \n",
      "Unchained Voice           2020-02-01          \n",
      "Love Child                2019-10-01          \n",
      "Wodden Side Table         2015-09-01          \n",
      "Shelves Shoe Cabinet      2016-01-01          \n",
      "Zigzag Corner Wall        2017-12-12          \n",
      "Foldeable Stool           2018-01-19          \n",
      "Bedside Tables            2018-09-15          \n",
      "Ward Robes                2019-09-15          \n",
      "Wash Stands               2020-01-01          \n",
      "Apple iphone-x            2019-10-01          \n",
      "Apple Tablet 7gen         2019-11-11          \n",
      "Apple Tablet 6gen         2019-12-01          \n",
      "Apple Laptop              2019-12-05          \n",
      "Xioami Redmi              2020-01-01          \n",
      "Xioami Speaker            2020-02-05          \n",
      "Lenvo Laptop              2020-02-01          \n",
      "Dell Laptop               2019-10-01          \n"
     ]
    }
   ],
   "source": [
    "query_14 = (\"\"\"select * from prod_details where TIMESTAMPDIFF(MONTH, %s , p_add_dt)>=0;\"\"\")\n",
    "cursor.execute(query_14,('2000-07-09',))\n",
    "result = cursor.fetchall()\n",
    "print(\"%-25s %-20s\"%(\"Product Name\", \"Product Add Date\"))\n",
    "for r in result:\n",
    "    print(\"%-25s %-20s\"%(r[1], r[7]))"
   ]
  },
  {
   "cell_type": "markdown",
   "metadata": {},
   "source": [
    "#### Problem-15"
   ]
  },
  {
   "cell_type": "code",
   "execution_count": 79,
   "metadata": {},
   "outputs": [
    {
     "name": "stdout",
     "output_type": "stream",
     "text": [
      "      Book_Name\n",
      "Opening Space            \n",
      "African Folktales        \n"
     ]
    }
   ],
   "source": [
    "query_15 = (\"\"\"select p_name as 'Book Name'\n",
    "from prod_details, book \n",
    "where  prod_details.p_type = 'book' and  prod_details.p_id = book.book_p_id and book_author=%s;\n",
    "\"\"\")\n",
    "cursor.execute(query_15,('Franz Kafka',))\n",
    "result = cursor.fetchall()\n",
    "print(\"%15s\"%(\"Book_Name\"))\n",
    "for r in result:\n",
    "    print(\"%-25s\"%(r[0]))"
   ]
  },
  {
   "cell_type": "markdown",
   "metadata": {},
   "source": [
    "#### Problem-16"
   ]
  },
  {
   "cell_type": "code",
   "execution_count": 80,
   "metadata": {},
   "outputs": [
    {
     "name": "stdout",
     "output_type": "stream",
     "text": [
      "Name                      Email-id                  Quantity\n",
      "Ajay                      ajy@yahoo.com             2\n",
      "Akshita                   akki@yahoo.com            1\n"
     ]
    }
   ],
   "source": [
    "query_16 = (\"\"\"select cust_name as 'Name', cust_email as 'Email-id', sum(cart_prd_qunt) as 'Quantity'\n",
    "from customer, carts natural join cart_details\n",
    "where customer.cust_id = carts.cart_cust_id\n",
    "group by cust_id\n",
    "having sum(cart_prd_qunt)<3\n",
    "\"\"\")\n",
    "cursor.execute(query_16)\n",
    "result = cursor.fetchall()\n",
    "print(\"%-25s %-25s %s\"%(\"Name\",\"Email-id\",\"Quantity\"))\n",
    "for r in result:\n",
    "    print(\"%-25s %-25s %s\"%(r[0],r[1],r[2]))"
   ]
  },
  {
   "cell_type": "markdown",
   "metadata": {},
   "source": [
    "#### Problem-17"
   ]
  },
  {
   "cell_type": "code",
   "execution_count": 83,
   "metadata": {},
   "outputs": [
    {
     "name": "stdout",
     "output_type": "stream",
     "text": [
      "Order_ID                  Max Ordered              \n",
      "1                         3                        \n"
     ]
    }
   ],
   "source": [
    "query_17 = (\"\"\"select ord_id, MAX(ProductOrdered) as 'Max Ordered'\n",
    "               from (\n",
    "                     select ord_id, SUM(ord_prd_qunt) as 'ProductOrdered'\n",
    "                     from orders natural join ord_details\n",
    "                     group by ord_id \n",
    "                    ) as bests\n",
    "\"\"\")\n",
    "cursor.execute(query_17)\n",
    "result = cursor.fetchall()\n",
    "print(\"%-25s %-25s\"%(\"Order_ID\",\"Max Ordered\"))\n",
    "for r in result:\n",
    "    print(\"%-25s %-25s\"%(r[0],r[1]))"
   ]
  },
  {
   "cell_type": "markdown",
   "metadata": {},
   "source": [
    "#### Problem-18"
   ]
  },
  {
   "cell_type": "code",
   "execution_count": 89,
   "metadata": {},
   "outputs": [
    {
     "name": "stdout",
     "output_type": "stream",
     "text": [
      "Product Name              Product Price             Added days before\n",
      "Unchained Voice           1500                      27\n",
      "Xioami Speaker            11000                     23\n",
      "Lenvo Laptop              50000                     27\n"
     ]
    }
   ],
   "source": [
    "query_18 = (\"\"\"select p_name as 'Product Name', p_price as 'Product Price', timestampdiff(day,p_add_dt,CURDATE()) as 'Added days before'\n",
    "from prod_details\n",
    "where timestampdiff(day,p_add_dt,CURDATE())<=%s;\n",
    "\"\"\")\n",
    "cursor.execute(query_18,('30',))\n",
    "result = cursor.fetchall()\n",
    "print(\"%-25s %-25s %s\"%(\"Product Name\",\"Product Price\",\"Added days before\"))\n",
    "for r in result:\n",
    "    print(\"%-25s %-25s %s\"%(r[0],r[1],r[2]))"
   ]
  },
  {
   "cell_type": "markdown",
   "metadata": {},
   "source": [
    "#### Problem-19"
   ]
  },
  {
   "cell_type": "code",
   "execution_count": 90,
   "metadata": {},
   "outputs": [
    {
     "name": "stdout",
     "output_type": "stream",
     "text": [
      "Retailer Name             Email-ID                 \n",
      "DASM                      da@gmail.com             \n",
      "luxe                      lu@gmail.com             \n",
      "Viya                      vy@gmail.com             \n",
      "IKea                      ikea@outlook.com         \n"
     ]
    }
   ],
   "source": [
    "query_19 = (\"\"\"select ret_name, ret_email\n",
    "               from retailer\n",
    "               where ret_id in \n",
    "                      (select p_vndr_id \n",
    "                       from orders natural join ord_details, prod_details\n",
    "                       where ord_cust_id = %s and ord_prd_id = p_id);\n",
    "\"\"\")\n",
    "cursor.execute(query_19,('1',))\n",
    "result = cursor.fetchall()\n",
    "print(\"%-25s %-25s\"%(\"Retailer Name\",\"Email-ID\"))\n",
    "for r in result:\n",
    "    print(\"%-25s %-25s\"%(r[0],r[1]))"
   ]
  },
  {
   "cell_type": "markdown",
   "metadata": {},
   "source": [
    "#### Problem-20"
   ]
  },
  {
   "cell_type": "code",
   "execution_count": 93,
   "metadata": {},
   "outputs": [],
   "source": [
    "query_20=(\"\"\"insert into Diwali_Deals (p_name, p_price, p_type, p_vndr_id, p_desc, p_quantity, p_add_dt, p_vw_count, p_vw_date, p_cat_id, p_b_id)\n",
    "select p_name, (p_price*.95), p_type, p_vndr_id, p_desc, p_quantity, p_add_dt, p_vw_count, p_vw_date, p_cat_id, p_b_id\n",
    "from prod_details \n",
    "where timestampdiff(day,p_add_dt,CURDATE())<=90;\n",
    "\"\"\")\n",
    "cursor.execute(query_20)\n",
    "cnx.commit()"
   ]
  },
  {
   "cell_type": "markdown",
   "metadata": {},
   "source": [
    "#### Problem-21"
   ]
  },
  {
   "cell_type": "code",
   "execution_count": 94,
   "metadata": {},
   "outputs": [
    {
     "name": "stdout",
     "output_type": "stream",
     "text": [
      "Product Name              Product Price            \n",
      "Apple Laptop              150000                   \n",
      "Oral Epics from Africa    600                      \n",
      "Wodden Side Table         5000                     \n",
      "Opening Space             400                      \n"
     ]
    }
   ],
   "source": [
    "query_21 = (\"\"\"select p_name as 'Product Name' , p_price as 'Product Price'\n",
    "from orders natural join ord_details, prod_details, review\n",
    "where ord_prd_id = p_id and ord_cust_id = 1 and p_id = review.pid and rating >=3\n",
    "limit 10\n",
    "\"\"\")\n",
    "cursor.execute(query_21)\n",
    "result = cursor.fetchall()\n",
    "print(\"%-25s %-25s\"%(\"Product Name\",\"Product Price\"))\n",
    "for r in result:\n",
    "    print(\"%-25s %-25s\"%(r[0],r[1]))"
   ]
  },
  {
   "cell_type": "code",
   "execution_count": null,
   "metadata": {},
   "outputs": [],
   "source": []
  },
  {
   "cell_type": "code",
   "execution_count": null,
   "metadata": {},
   "outputs": [],
   "source": []
  },
  {
   "cell_type": "code",
   "execution_count": null,
   "metadata": {},
   "outputs": [],
   "source": []
  },
  {
   "cell_type": "code",
   "execution_count": 63,
   "metadata": {},
   "outputs": [],
   "source": [
    "cnx.close()"
   ]
  },
  {
   "cell_type": "code",
   "execution_count": null,
   "metadata": {},
   "outputs": [],
   "source": []
  }
 ],
 "metadata": {
  "kernelspec": {
   "display_name": "Python 3",
   "language": "python",
   "name": "python3"
  },
  "language_info": {
   "codemirror_mode": {
    "name": "ipython",
    "version": 3
   },
   "file_extension": ".py",
   "mimetype": "text/x-python",
   "name": "python",
   "nbconvert_exporter": "python",
   "pygments_lexer": "ipython3",
   "version": "3.7.3"
  }
 },
 "nbformat": 4,
 "nbformat_minor": 2
}
